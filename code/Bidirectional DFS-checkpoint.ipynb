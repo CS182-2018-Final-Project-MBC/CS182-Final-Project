{
 "cells": [
  {
   "cell_type": "code",
   "execution_count": 11,
   "metadata": {},
   "outputs": [],
   "source": [
    "# There is a bug I cannot explain at the moment,\n",
    "# which you can see by uncommenting the triple-quoted comments.\n",
    "\n",
    "import pywikibot"
   ]
  },
  {
   "cell_type": "code",
   "execution_count": 152,
   "metadata": {},
   "outputs": [
    {
     "data": {
      "text/plain": [
       "'\\npage3 = PageNode(pywikibot.Page(site,\"Module talk:Authority control/testcases\"))\\n'"
      ]
     },
     "execution_count": 152,
     "metadata": {},
     "output_type": "execute_result"
    }
   ],
   "source": [
    "# Store things as pairs: (stack, dict) where stack is\n",
    "# the stack associated to a dfs, and dict is\n",
    "# a dictionary sending each neighbor of a previous element of stack\n",
    "# to its parent that showed up earliest in the list.\n",
    "# A possible future update is to also include the distance\n",
    "# from the origin in the dict, so the image of the dict\n",
    "# would be an ordered pair (parent, distance). \n",
    "\n",
    "\"\"\"\n",
    "page3 = PageNode(pywikibot.Page(site,\"Module talk:Authority control/testcases\"))\n",
    "\"\"\""
   ]
  },
  {
   "cell_type": "code",
   "execution_count": 180,
   "metadata": {},
   "outputs": [],
   "source": [
    "# Updates a pair and returns 1 if it finds a path,\n",
    "# 0 if it does not find a path but updates successfully,\n",
    "# and -1 if there is nowhere to expand.\n",
    "# By default, the first pair is the one updated.\n",
    "# careful_bookkeeping means that the pairs will be updated correctly\n",
    "# even if a path is found.\n",
    "def expand_a_pair(pair1, pair2, expand_first = True, pair1_to_pair2 = True, careful_bookkeeping=True):\n",
    "    if not expand_first:\n",
    "        return expand_a_pair(pair2, pair1, pair1_to_pair2 = not pair1_to_pair2, careful_bookkeeping = careful_bookkeeping)\n",
    "\n",
    "    try:\n",
    "        item_to_expand, path = pair1[0].pop()\n",
    "\n",
    "        if pair1_to_pair2:\n",
    "            potential_expansions = item_to_expand.get_successors()\n",
    "        else:\n",
    "            potential_expansions = item_to_expand.get_predecessors()\n",
    "        # good potential expansions are those that have not been seen before\n",
    "        # in either dictionary.  It is not completely obvious, but not hard to show\n",
    "        # that if we get stuck by avoiding words in this way, then there is no path\n",
    "        # from start to end.\n",
    "        good_potential_expansions = []\n",
    "        for item in potential_expansions:\n",
    "            \"\"\"\n",
    "            if str(item) == str(page3):\n",
    "                the_item = item.page\n",
    "                the_page3 = page3.page\n",
    "                print([\"LOOK HERE!\"]*1000)\n",
    "                print(\"item:\",item)\n",
    "                print(\"title:\",the_item.title())\n",
    "                print(\"site:\",the_item.site)\n",
    "                print(\"namespace:\",the_item.namespace())\n",
    "                print(\"hash:\",hash(item))\n",
    "                print(\"page3:\",page3)\n",
    "                print(\"title:\",the_page3.title())\n",
    "                print(\"site:\",the_page3.site)\n",
    "                print(\"namespace:\",the_page3.namespace())\n",
    "                print(\"hash:\",hash(page3))\n",
    "            \n",
    "            # On cmd, printing page.namespace() gives you:\n",
    "            # Namespace(id=0, custom_name='', canonical_name='', aliases=[], case='first-letter', content=True, nonincludable=False, subpages=False)\n",
    "            # But I don't see how to get that here...\n",
    "            \"\"\"\n",
    "            \n",
    "            if not careful_bookkeeping:\n",
    "                # if we have seen this neighbor when extending pair2\n",
    "                if item in pair2[1].keys():        \n",
    "                    pair1[0].append((item, path + [item]))\n",
    "                    return 1\n",
    "                elif item not in pair1[1].keys():\n",
    "                    good_potential_expansions.append((item, path + [item]))\n",
    "                    pair1[1][item] = item_to_expand\n",
    "            else:\n",
    "                pass #TODO\n",
    "\n",
    "        # The dictionary has already been updated during the loop\n",
    "        # so we only have to update the stack now\n",
    "        pair1[0].extend(good_potential_expansions)\n",
    "        \n",
    "    except:\n",
    "        return -1\n"
   ]
  },
  {
   "cell_type": "code",
   "execution_count": 178,
   "metadata": {},
   "outputs": [],
   "source": [
    "# use_first means that the path works by\n",
    "# travelling down the stack of pair1\n",
    "# followed by going backwards down pair2;\n",
    "# not use_first means the opposite.\n",
    "def generate_path(pair1,pair2,use_first):\n",
    "    if use_first:\n",
    "        endpoint, path = pair1[0].pop()\n",
    "        dict = pair2[1]\n",
    "        while endpoint != None:\n",
    "            endpoint = dict[endpoint]\n",
    "            path.append(endpoint)\n",
    "        path = path[:-1]\n",
    "    else:\n",
    "        endpoint, path = pair2[0].pop()\n",
    "        dict = pair1[1]\n",
    "        while endpoint != None:\n",
    "            endpoint = dict[endpoint]\n",
    "            path.append(endpoint)\n",
    "        path = path[:-1]\n",
    "        path.reverse()\n",
    "    return path"
   ]
  },
  {
   "cell_type": "code",
   "execution_count": 161,
   "metadata": {},
   "outputs": [],
   "source": [
    "def bidirectional_DFS(start, end):\n",
    "    stack1 = [(start,[start])]\n",
    "    stack2 = [(end,[end])]\n",
    "    dict1 = {start:None}\n",
    "    dict2 = {end:None}\n",
    "\n",
    "    use_first = True\n",
    "    while True:\n",
    "        \"\"\"\n",
    "        print(page3 in dict1.keys())\n",
    "        print(hash(page3) in [hash(word) for word in dict1.keys()])\n",
    "        print(str(page3) in [str(word) for word in dict1.keys()])\n",
    "        print(page3 in stack1[-1][1])\n",
    "        print(str(page3) in [str(word) for word in stack1[-1][1]])\n",
    "        print(\"STACKS\")\n",
    "        for word in stack1[-1][1]:\n",
    "            print(word)\n",
    "        #print(\"DICTS\")\n",
    "        #for word in dict1.keys():\n",
    "            #print(word)\n",
    "        \"\"\"\n",
    "            \n",
    "        result = expand_a_pair((stack1, dict1), (stack2, dict2), expand_first = use_first, careful_bookkeeping = False)\n",
    "        if result == 1:\n",
    "            return generate_path((stack1,dict1),(stack2,dict2),use_first)\n",
    "        elif result == -1:\n",
    "            return False\n",
    "        \n",
    "        use_first = not use_first"
   ]
  },
  {
   "cell_type": "code",
   "execution_count": 172,
   "metadata": {},
   "outputs": [],
   "source": [
    "class PageNode:\n",
    "    def __init__(self,page):\n",
    "        self.page = page\n",
    "        \n",
    "    def __str__(self):\n",
    "        return str(self.page)\n",
    "    \n",
    "    def __repr__(self):\n",
    "        return repr(self.page)\n",
    "    \n",
    "    def __eq__(self, other):\n",
    "        try:\n",
    "            return self.page == other.page\n",
    "        except:\n",
    "            # If other does not have a page attribute\n",
    "            # (Main intended use case: If other == None)\n",
    "            return False\n",
    "    \n",
    "    def __hash__(self):\n",
    "        return hash(self.page)\n",
    "        \n",
    "    def get_successors(self):\n",
    "        return [PageNode(page) for page in list(self.page.linkedPages())]\n",
    "    \n",
    "    def get_predecessors(self):\n",
    "        return [PageNode(page) for page in list(self.page.backlinks())]"
   ]
  },
  {
   "cell_type": "code",
   "execution_count": 18,
   "metadata": {},
   "outputs": [],
   "source": [
    "site = pywikibot.Site(\"en\", \"wikipedia\")"
   ]
  },
  {
   "cell_type": "code",
   "execution_count": 181,
   "metadata": {},
   "outputs": [
    {
     "data": {
      "text/plain": [
       "[Page('Moors'),\n",
       " Category('Category:Wikipedia articles with SUDOC identifiers'),\n",
       " Page('Module:Authority control'),\n",
       " Page('Module talk:Authority control/testcases'),\n",
       " Page('Module talk:Authority control/sandbox/testcases'),\n",
       " Category('Category:Redirects from moves'),\n",
       " Page('Template:Redirect category shell'),\n",
       " Category('Category:Unprintworthy redirects'),\n",
       " Category('Category:Templates for unprintworthy redirects'),\n",
       " Category('Category:Wikipedia administration'),\n",
       " Page('Wikipedia:Bots/Requests for approval'),\n",
       " User('User:Ahechtbot'),\n",
       " User('User:Ahechtbot/Task 2 list'),\n",
       " Page('User talk:5 albert square/Archive 14'),\n",
       " Page('User talk:5 albert square/Archive 20'),\n",
       " Page('User talk:5 albert square/Archive 19'),\n",
       " Page('User talk:5 albert square/Archive 18'),\n",
       " Page('User talk:5 albert square/Archive 17'),\n",
       " Page('User talk:Davey2010/Archive 2014'),\n",
       " Page('User talk:Davey2010/Archive 2014 2'),\n",
       " Page('User talk:Davey2010/Archive 2017'),\n",
       " Page('User talk:Davey2010/Archive 2017 1'),\n",
       " Page('User talk:Davey2010/TalkpageTop'),\n",
       " User('User:Davey2010/notes'),\n",
       " User('User:Davey2010/Arbcom'),\n",
       " Page('Wikipedia:Arbitration Committee Elections December 2018/Candidates/GorillaWarfare/Statement'),\n",
       " Page('Wikipedia talk:Arbitration Committee Elections December 2018/Candidates/GorillaWarfare'),\n",
       " Page('Wikipedia talk:Arbitration Committee Elections December 2018/Coordination'),\n",
       " Page('Wikipedia:Arbitration Committee Elections December 2017/Coordination/MMS'),\n",
       " Page('Wikipedia:Arbitration Committee Elections December 2017/Coordination/MMS/08'),\n",
       " Page('User talk:Msasag'),\n",
       " Page('Aryan')]"
      ]
     },
     "execution_count": 181,
     "metadata": {},
     "output_type": "execute_result"
    }
   ],
   "source": [
    "start = PageNode(pywikibot.Page(site,\"Moors\"))\n",
    "end = PageNode(pywikibot.Page(site,\"Aryan\"))\n",
    "bidirectional_DFS(start,end)"
   ]
  },
  {
   "cell_type": "code",
   "execution_count": null,
   "metadata": {},
   "outputs": [],
   "source": []
  }
 ],
 "metadata": {
  "kernelspec": {
   "display_name": "Python 3",
   "language": "python",
   "name": "python3"
  },
  "language_info": {
   "codemirror_mode": {
    "name": "ipython",
    "version": 3
   },
   "file_extension": ".py",
   "mimetype": "text/x-python",
   "name": "python",
   "nbconvert_exporter": "python",
   "pygments_lexer": "ipython3",
   "version": "3.7.1"
  }
 },
 "nbformat": 4,
 "nbformat_minor": 2
}

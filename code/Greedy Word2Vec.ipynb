{
 "cells": [
  {
   "cell_type": "code",
   "execution_count": 1,
   "metadata": {},
   "outputs": [],
   "source": [
    "import pywikibot\n",
    "import queue\n",
    "import gensim\n",
    "import numpy as np\n",
    "import warnings\n",
    "warnings.filterwarnings('ignore')  # Suppresses gensim errors"
   ]
  },
  {
   "cell_type": "markdown",
   "metadata": {},
   "source": [
    "### Things I've installed:\n",
    "1. wikipedia (query wikipedia) - not used\n",
    "2. pywikibot (more advanced queries)\n",
    "3. wikiutils (read sql.gz files) - not yet used. possibly in the future\n",
    "4. gensim (for NLP and specifically using Google's word2vec)"
   ]
  },
  {
   "cell_type": "markdown",
   "metadata": {},
   "source": [
    "### Load word2vec embeddings"
   ]
  },
  {
   "cell_type": "code",
   "execution_count": 2,
   "metadata": {},
   "outputs": [],
   "source": [
    "# Obviously override this to your local location\n",
    "#model_addr = '/Users/benjaminrafetto/Code/cs182/project/data/GoogleNews-vectors-negative300.bin'\n",
    "\n",
    "# claire's address \n",
    "model_addr = '/Users/clairestolz/CS182/CS182-Final-Project/data/GoogleNews-vectors-negative300.bin'"
   ]
  },
  {
   "cell_type": "code",
   "execution_count": 3,
   "metadata": {
    "scrolled": true
   },
   "outputs": [],
   "source": [
    "model = gensim.models.KeyedVectors.load_word2vec_format(model_addr, binary=True)  "
   ]
  },
  {
   "cell_type": "markdown",
   "metadata": {},
   "source": [
    "### Crude definition of distance"
   ]
  },
  {
   "cell_type": "code",
   "execution_count": 4,
   "metadata": {},
   "outputs": [],
   "source": [
    "# Currently uses average word distances from word2vec embeddings\n",
    "def get_distance_new(topic, model, goal):\n",
    "    assert type(topic) is list and type(goal) is list\n",
    "    try:\n",
    "        distances = [model.distance(x, y) for x in topic for y in goal]\n",
    "        return (np.average(distances) + np.min(distances) / 2.0)  # Combination of average and minimum\n",
    "    except:\n",
    "        return np.Infinity\n"
   ]
  },
  {
   "cell_type": "markdown",
   "metadata": {},
   "source": [
    "### Connect to Wikipedia"
   ]
  },
  {
   "cell_type": "code",
   "execution_count": 5,
   "metadata": {},
   "outputs": [],
   "source": [
    "site = pywikibot.Site(\"en\", \"wikipedia\")"
   ]
  },
  {
   "cell_type": "code",
   "execution_count": 6,
   "metadata": {},
   "outputs": [],
   "source": [
    "def greedy_word2vec_path(start, goal, maxIters=30, verbose=False):\n",
    "    start_list = process_word(start)\n",
    "    goal_list = process_word(goal)\n",
    "    assert get_distance_new(start_list, model, goal_list) is not np.inf, \"Start and end nodes {} and {} must be in word2vec vocabulary.\".format(start, goal)\n",
    "    \n",
    "    start_page = pywikibot.Page(site, start)\n",
    "    path = []\n",
    "    visited = []\n",
    "    fringe = queue.PriorityQueue()\n",
    "    fringe.put((np.Inf, start_page))\n",
    "    \n",
    "    i = 0\n",
    "    while i < maxIters and not fringe.empty():\n",
    "        i += 1\n",
    "        priority, page = fringe.get()\n",
    "        path.append(page.title())\n",
    "        if verbose:\n",
    "            print(\"Exploring node {} with distance {}\".format(page.title(), priority))\n",
    "        if goal.lower() == page.title().lower():\n",
    "            return path\n",
    "\n",
    "        for p in page.linkedPages():\n",
    "            if p.title() not in visited:\n",
    "                visited.append(p.title())\n",
    "                processed = process_word(p.title())\n",
    "#                 print(p.title(), processed)\n",
    "                distance = get_distance_new(processed, model, goal_list)\n",
    "                fringe.put((distance, p))\n",
    "\n",
    "    return []\n",
    "#     raise Exception(\"Unable to find goal node.\")"
   ]
  },
  {
   "cell_type": "code",
   "execution_count": 7,
   "metadata": {},
   "outputs": [],
   "source": [
    "def process_word(topic, model=model):\n",
    "    if not topic:  #No topic. Stop.\n",
    "        return []\n",
    "    \n",
    "    if topic in model:\n",
    "        return [topic]\n",
    "\n",
    "    output = []\n",
    "    words = topic.split(' ')\n",
    "\n",
    "    #Iteratively search word2vec for shorter and shorter phrases\n",
    "    for j in range(len(words), 1, -1):\n",
    "        test = '_'.join(words[:j])\n",
    "        if test in model:\n",
    "            return [test] + process_word(' '.join(words[j:]))\n",
    "\n",
    "    if words[0] in model:\n",
    "        output.append(words[0])\n",
    "    return output + process_word(' '.join(words[1:]))"
   ]
  },
  {
   "cell_type": "markdown",
   "metadata": {},
   "source": [
    "### Test algorithm"
   ]
  },
  {
   "cell_type": "code",
   "execution_count": null,
   "metadata": {},
   "outputs": [],
   "source": []
  },
  {
   "cell_type": "code",
   "execution_count": 20,
   "metadata": {},
   "outputs": [],
   "source": [
    "examples = [(\"speech\", \"lacrosse\"),\n",
    "            (\"mantra\", \"dna\"),\n",
    "            (\"Parthenon\", \"Natural Environment\"),\n",
    "            (\"Feces\", \"Poet\"),\n",
    "#             (\"penguin\", \"sans-serif\"),  #sans-serif is not in the dictionary\n",
    "            (\"angelina jolie\", \"nitrogen\"),\n",
    "            (\"Carrie Fisher\", \"Death of Adolf Hitler\"),\n",
    "            (\"Lacrosse\", \"Comedian\"),\n",
    "            (\"Dictionary\", \"Atmosphere of Earth\"),\n",
    "            (\"Broadway theatre\", \"Wall Street\"),\n",
    "            (\"Life expectancy\", \"Graphical User Interface\"),\n",
    "            (\"Diazepam\", \"Death\"),\n",
    "            (\"Moors\", \"Aryan\"),\n",
    "            (\"Michelangelo\", \"Horror Fiction\"),\n",
    "            (\"Jim Henson\", \"Gin\"),\n",
    "            (\"Continental Army\", \"Computer Multitasking\"),\n",
    "            (\"World Health Organization\", \"Ecosystem\"),\n",
    "            (\"Blood pressure\", \"Mathematics\"),\n",
    "            (\"War of 1812\", \"Queens of the Stone Age\"),\n",
    "            (\"Onomatopoeia\", \"Wiki\"),\n",
    "            (\"Church of England\", \"Joan Baez\"),\n",
    "            (\"Nuclear Power\", \"Canadians\"),\n",
    "            (\"Multi-sport event\", \"Ku Klux Klan\"),\n",
    "            (\"Pony Express\", \"Augustus\"),\n",
    "            (\"Organization\", \"Parthenon\"),\n",
    "            (\"Battleship\", \"Dream\"),\n",
    "            (\"The Cosby Show\", \"Marine biology\"),\n",
    "            (\"DNA replication\", \"Muscle car\"),\n",
    "            (\"Mammal\", \"Montreal\"),\n",
    "            (\"River\", \"Engine\"),\n",
    "            (\"Louis Armstrong\", \"Nuclear Power\"),\n",
    "            (\"Entertainment\", \"Ralph Waldo Emerson\"),\n",
    "            (\"Bilirubin\", \"Architecture\"),\n",
    "            (\"Association football\", \"Axis powers\"),\n",
    "            (\"World Series\", \"Nuclear warfare\"),\n",
    "            (\"Sherlock Holmes\",\"Magnetic resonance imaging\"),\n",
    "            (\"Waterboarding\",\"World War II\"),\n",
    "            (\"World Trade Organization\", \"Ant\"),\n",
    "            (\"Printed circuit board\", \"Typhoid fever\"),\n",
    "            (\"Statistics\",\"Renaissance\"),\n",
    "            (\"Radio\",\"Personal computer\"),\n",
    "            (\"Bette Midler\",\"Jellyfish\"),\n",
    "            (\"Sigmund Freud\",\"Vacuum\"),\n",
    "            (\"Credit card\",\"String theory\"),\n",
    "            (\"Radiohead\",\"Magnetic field\"),\n",
    "            (\"Biosphere\",\"Nobel Prize in Physiology or Medicine\"),\n",
    "            (\"Mick Jagger\",\"Knife\"),\n",
    "            (\"West Indies\",\"Gastroesophageal reflux disease\"),\n",
    "            (\"Wesley Snipes\",\"Computer science\"),\n",
    "            (\"Airline\",\"Bavaria\"),\n",
    "            (\"Nevada\",\"Maltose\")\n",
    "           ]"
   ]
  },
  {
   "cell_type": "code",
   "execution_count": 21,
   "metadata": {},
   "outputs": [
    {
     "name": "stdout",
     "output_type": "stream",
     "text": [
      "Searching for shortest path from World Series to Nuclear warfare\n"
     ]
    }
   ],
   "source": [
    "start, goal = examples[np.random.choice(len(examples))]\n",
    "print(\"Searching for shortest path from {} to {}\".format(start,goal))"
   ]
  },
  {
   "cell_type": "markdown",
   "metadata": {},
   "source": [
    "### To-Do: exclude Wikipedia: Category: Talk:"
   ]
  },
  {
   "cell_type": "markdown",
   "metadata": {},
   "source": [
    "### Generate data for greedy search:"
   ]
  },
  {
   "cell_type": "code",
   "execution_count": 19,
   "metadata": {
    "scrolled": true
   },
   "outputs": [
    {
     "name": "stdout",
     "output_type": "stream",
     "text": [
      "Length 4 Path ['Statistics', 'Medieval Roman law', 'Early Middle Ages', 'Renaissance']\n"
     ]
    }
   ],
   "source": [
    "for start, goal in examples[-1:]:\n",
    "    path = greedy_word2vec_path(start, goal, maxIters=50, verbose=False)\n",
    "    print(\"Length\", len(path), \"Path\", path)"
   ]
  },
  {
   "cell_type": "code",
   "execution_count": 25,
   "metadata": {},
   "outputs": [
    {
     "name": "stdout",
     "output_type": "stream",
     "text": [
      "start: speech, goal: lacrosse\n",
      "start: mantra, goal: dna\n",
      "start: Parthenon, goal: Natural Environment\n",
      "start: Feces, goal: Poet\n",
      "start: angelina jolie, goal: nitrogen\n",
      "start: Carrie Fisher, goal: Death of Adolf Hitler\n",
      "start: Lacrosse, goal: Comedian\n",
      "start: Dictionary, goal: Atmosphere of Earth\n",
      "start: Broadway theatre, goal: Wall Street\n",
      "start: Life expectancy, goal: Graphical User Interface\n",
      "start: Diazepam, goal: Death\n",
      "start: Moors, goal: Aryan\n",
      "start: Michelangelo, goal: Horror Fiction\n",
      "start: Jim Henson, goal: Gin\n",
      "start: Continental Army, goal: Computer Multitasking\n",
      "start: World Health Organization, goal: Ecosystem\n",
      "start: Blood pressure, goal: Mathematics\n",
      "start: War of 1812, goal: Queens of the Stone Age\n",
      "start: Onomatopoeia, goal: Wiki\n",
      "start: Church of England, goal: Joan Baez\n",
      "start: Nuclear Power, goal: Canadians\n",
      "start: Multi-sport event, goal: Ku Klux Klan\n",
      "start: Pony Express, goal: Augustus\n",
      "start: Organization, goal: Parthenon\n",
      "start: Battleship, goal: Dream\n",
      "start: The Cosby Show, goal: Marine biology\n",
      "start: DNA replication, goal: Muscle car\n",
      "start: Mammal, goal: Montreal\n",
      "start: River, goal: Engine\n",
      "start: Louis Armstrong, goal: Nuclear Power\n",
      "start: Entertainment, goal: Ralph Waldo Emerson\n",
      "start: Bilirubin, goal: Architecture\n",
      "start: Association football, goal: Axis powers\n",
      "start: World Series, goal: Nuclear warfare\n",
      "start: Sherlock Holmes, goal: Magnetic resonance imaging\n",
      "start: Waterboarding, goal: World War II\n",
      "start: World Trade Organization, goal: Ant\n",
      "start: Printed circuit board, goal: Typhoid fever\n",
      "start: Statistics, goal: Renaissance\n",
      "start: Radio, goal: Personal computer\n",
      "start: Bette Midler, goal: Jellyfish\n",
      "start: Sigmund Freud, goal: Vacuum\n",
      "start: Credit card, goal: String theory\n",
      "start: Radiohead, goal: Magnetic field\n",
      "start: Biosphere, goal: Nobel Prize in Physiology or Medicine\n",
      "start: Mick Jagger, goal: Knife\n",
      "start: West Indies, goal: Gastroesophageal reflux disease\n",
      "start: Wesley Snipes, goal: Computer science\n",
      "start: Airline, goal: Bavaria\n",
      "start: Nevada, goal: Maltose\n"
     ]
    }
   ],
   "source": [
    "# get path length for 50 samples\n",
    "path_lengths = []\n",
    "paths = []\n",
    "for start, goal in examples:\n",
    "    print(\"start: {}, goal: {}\".format(start,goal))\n",
    "    path = greedy_word2vec_path(start, goal, maxIters=50, verbose=False)\n",
    "    paths.append(path)\n",
    "    path_lengths.append(len(path))"
   ]
  },
  {
   "cell_type": "code",
   "execution_count": 33,
   "metadata": {},
   "outputs": [
    {
     "data": {
      "image/png": "[encoded data removed]",
      "text/plain": [
       "<Figure size 432x288 with 1 Axes>"
      ]
     },
     "metadata": {
      "needs_background": "light"
     },
     "output_type": "display_data"
    }
   ],
   "source": [
    "import matplotlib.pyplot as plt\n",
    "n, bins, patches = plt.hist(x=path_lengths, bins='auto', color='#0504aa',\n",
    "                            alpha=0.7, rwidth=0.85)\n",
    "plt.grid(axis='y', alpha=0.75)\n",
    "plt.xlabel('Value')\n",
    "plt.ylabel('Frequency')\n",
    "plt.title('Distribution of path lengths for greedy search')\n",
    "#maxfreq = n.max()\n",
    "plt.show()"
   ]
  },
  {
   "cell_type": "code",
   "execution_count": null,
   "metadata": {},
   "outputs": [],
   "source": []
  }
 ],
 "metadata": {
  "kernelspec": {
   "display_name": "Python 3",
   "language": "python",
   "name": "python3"
  },
  "language_info": {
   "codemirror_mode": {
    "name": "ipython",
    "version": 3
   },
   "file_extension": ".py",
   "mimetype": "text/x-python",
   "name": "python",
   "nbconvert_exporter": "python",
   "pygments_lexer": "ipython3",
   "version": "3.5.6"
  }
 },
 "nbformat": 4,
 "nbformat_minor": 2
}

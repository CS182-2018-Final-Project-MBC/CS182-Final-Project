{
 "cells": [
  {
   "cell_type": "code",
   "execution_count": 1,
   "metadata": {},
   "outputs": [],
   "source": [
    "import pywikibot\n",
    "import queue\n",
    "import gensim\n",
    "import numpy as np\n",
    "import warnings\n",
    "import pickle\n",
    "warnings.filterwarnings('ignore')  # Suppresses gensim errors\n",
    "import matplotlib.pyplot as plt\n",
    "import seaborn as sns\n",
    "from tqdm import tqdm\n",
    "\n",
    "from util import get_distance, process_word, valid_page, get_samples"
   ]
  },
  {
   "cell_type": "code",
   "execution_count": 2,
   "metadata": {},
   "outputs": [],
   "source": [
    "from search import greedy_word2vec, a_star_search"
   ]
  },
  {
   "cell_type": "markdown",
   "metadata": {},
   "source": [
    "### Things I've installed:\n",
    "1. wikipedia (query wikipedia) - not used\n",
    "2. pywikibot (more advanced queries)\n",
    "3. wikiutils (read sql.gz files) - not yet used. possibly in the future\n",
    "4. gensim (for NLP and specifically using Google's word2vec)"
   ]
  },
  {
   "cell_type": "markdown",
   "metadata": {},
   "source": [
    "### Load word2vec embeddings and connect to Wikipedia"
   ]
  },
  {
   "cell_type": "code",
   "execution_count": 23,
   "metadata": {},
   "outputs": [],
   "source": [
    "# Obviously override this to your local location\n",
    "model_addr = '/Users/benjaminrafetto/Code/cs182/project/data/GoogleNews-vectors-negative300.bin'\n",
    "\n",
    "# claire's address \n",
    "# model_addr = '/Users/clairestolz/CS182/CS182-Final-Project/data/GoogleNews-vectors-negative300.bin'\n",
    "\n",
    "model = gensim.models.KeyedVectors.load_word2vec_format(model_addr, binary=True)\n",
    "site = pywikibot.Site(\"en\", \"wikipedia\")"
   ]
  },
  {
   "cell_type": "markdown",
   "metadata": {},
   "source": [
    "## Add Greedy with randomized bad steps"
   ]
  },
  {
   "cell_type": "markdown",
   "metadata": {},
   "source": [
    "## Search Algorithms"
   ]
  },
  {
   "cell_type": "code",
   "execution_count": 4,
   "metadata": {},
   "outputs": [],
   "source": [
    "def greedy_word2vec(start, goal, maxIters=30, verbose=False, distance_metric=\"combined\", combine_phrases=True):\n",
    "    start_list = process_word(start, model, combine_phrases)\n",
    "    goal_list = process_word(goal, model, combine_phrases)\n",
    "    assert get_distance(start_list, model, goal_list, distance_metric) is not np.inf, \"Start and end nodes {} and {} must be in word2vec vocabulary.\".format(start, goal)\n",
    "    \n",
    "    start_page = pywikibot.Page(site, start)\n",
    "    path = []\n",
    "    visited = []\n",
    "    fringe = queue.PriorityQueue()\n",
    "    fringe.put((np.Inf, start_page))\n",
    "    \n",
    "    i = 0\n",
    "    while i < maxIters and not fringe.empty():\n",
    "        i += 1\n",
    "        priority, page = fringe.get()\n",
    "        path.append(page.title())\n",
    "        if verbose:\n",
    "            print(\"Exploring node {} with distance {}\".format(page.title(), priority))\n",
    "        if goal.lower() == page.title().lower():\n",
    "            return path\n",
    "\n",
    "        for p in page.linkedPages():\n",
    "            if valid_page(p.title()):\n",
    "                if p.title() not in visited:\n",
    "                    visited.append(p.title())\n",
    "                    processed = process_word(p.title(), model, combine_phrases)\n",
    "                    distance = get_distance(processed, model, goal_list, distance_metric)\n",
    "                    fringe.put((distance, p))\n",
    "\n",
    "    return []"
   ]
  },
  {
   "cell_type": "code",
   "execution_count": null,
   "metadata": {},
   "outputs": [],
   "source": [
    "visited = []\n",
    "if p.title() not in visited:"
   ]
  },
  {
   "cell_type": "markdown",
   "metadata": {},
   "source": [
    "## A* in pure embedding space"
   ]
  },
  {
   "cell_type": "code",
   "execution_count": 5,
   "metadata": {},
   "outputs": [],
   "source": [
    "def a_star_embedding(start, goal, maxIters=30, verbose=False, distance_metric=\"combined\", combine_phrases=True):\n",
    "    start_list = process_word(start, model, combine_phrases)\n",
    "    goal_list = process_word(goal, model, combine_phrases)\n",
    "    assert get_distance(start_list, model, goal_list, distance_metric) is not np.inf, \"Start and end nodes {} and {} must be in word2vec vocabulary.\".format(start, goal)\n",
    "    \n",
    "    start_page = pywikibot.Page(site, start)\n",
    "    path = []\n",
    "    visited = []\n",
    "    fringe = queue.PriorityQueue()\n",
    "    embed_distance = get_distance(start_list, model, goal_list, distance_metric)\n",
    "    fringe.put((embed_distance, start_page, [], 0.0, embed_distance, start_list))\n",
    "    \n",
    "    i = 0\n",
    "    while i < maxIters and not fringe.empty():\n",
    "        i += 1\n",
    "        priority, page, path, d_start, d_heuristic, page_processed = fringe.get()\n",
    "        path.append(page.title())\n",
    "        if verbose:\n",
    "            print(\"Exploring node {} with priority {} and path {}\".format(page.title(), priority, path))\n",
    "        if goal.lower() == page.title().lower():\n",
    "            return path\n",
    "\n",
    "        for p in page.linkedPages():\n",
    "            if valid_page(p.title()):\n",
    "                if p.title() not in visited:\n",
    "                    visited.append(p.title())\n",
    "                    processed = process_word(p.title(), model, combine_phrases)\n",
    "                    step_distance = get_distance(processed, model, page_processed, distance_metric)\n",
    "                    goal_distance = get_distance(processed, model, goal_list, distance_metric)\n",
    "                    fringe.put((d_start + step_distance + goal_distance, p, path, d_start + step_distance, goal_distance, processed))\n",
    "    \n",
    "    return path, fringe"
   ]
  },
  {
   "cell_type": "markdown",
   "metadata": {},
   "source": [
    "## A* taking into account path length"
   ]
  },
  {
   "cell_type": "code",
   "execution_count": 6,
   "metadata": {},
   "outputs": [],
   "source": [
    "def a_star_search(start, goal, maxIters=30, verbose=False, distance_metric=\"combined\", combine_phrases=True, distance_multiplier=100.0):\n",
    "    start_list = process_word(start, model, combine_phrases)\n",
    "    goal_list = process_word(goal, model, combine_phrases)\n",
    "    assert get_distance(start_list, model, goal_list, distance_metric) is not np.inf, \"Start and end nodes {} and {} must be in word2vec vocabulary.\".format(start, goal)\n",
    "    \n",
    "    start_page = pywikibot.Page(site, start)\n",
    "    path = []\n",
    "    visited = []\n",
    "    fringe = queue.PriorityQueue()\n",
    "    embed_distance = get_distance(start_list, model, goal_list, distance_metric)\n",
    "    fringe.put((embed_distance, start_page, [], 0.0, embed_distance, start_list))\n",
    "    \n",
    "    expanded_nodes = 0\n",
    "    \n",
    "    i = 0\n",
    "    while i < maxIters and not fringe.empty():\n",
    "        expanded_nodes += 1\n",
    "        i += 1\n",
    "        priority, page, path, d_start, d_heuristic, page_processed = fringe.get()\n",
    "        path = path.copy()\n",
    "        path.append(page.title())\n",
    "        if verbose:\n",
    "            print(\"Exploring node {} with priority {} and path {}\".format(page.title(), priority, path))\n",
    "        if goal.lower() == page.title().lower():\n",
    "            return path, expanded_nodes\n",
    "\n",
    "        for p in page.linkedPages():\n",
    "            if valid_page(p.title()):\n",
    "                if p.title() not in visited:\n",
    "                    visited.append(p.title())\n",
    "                    processed = process_word(p.title(), model, combine_phrases)\n",
    "                    step_distance = get_distance(processed, model, page_processed, distance_metric)\n",
    "                    goal_distance = get_distance(processed, model, goal_list, distance_metric)\n",
    "                    fringe.put((len(path) + goal_distance * distance_multiplier, p, path, len(path) + 1, goal_distance * distance_multiplier, processed))\n",
    "    \n",
    "    return [], expanded_nodes"
   ]
  },
  {
   "cell_type": "code",
   "execution_count": null,
   "metadata": {
    "scrolled": false
   },
   "outputs": [],
   "source": [
    "# start, goal = \"speech\", \"lacrosse\"\n",
    "# start, goal = \"War of 1812\", \"Queens of the Stone Age\"\n",
    "\n",
    "# print(start, goal)\n",
    "# path, nodes = a_star_search(start, goal, maxIters=100, verbose=False, distance_multiplier=30.0)\n",
    "# path = greedy_word2vec(start, goal, maxIters=100, verbose=False)"
   ]
  },
  {
   "cell_type": "markdown",
   "metadata": {},
   "source": [
    "### Generate data for greedy search:"
   ]
  },
  {
   "cell_type": "code",
   "execution_count": 7,
   "metadata": {},
   "outputs": [],
   "source": [
    "examples = get_samples(100)"
   ]
  },
  {
   "cell_type": "code",
   "execution_count": 8,
   "metadata": {},
   "outputs": [],
   "source": [
    "def run_search(search_method, search_tuples, **kwargs):\n",
    "    results = {}\n",
    "    for start, goal in tqdm(search_tuples):\n",
    "        results[(start, goal)] = search_method(start, goal, **kwargs)\n",
    "    return results"
   ]
  },
  {
   "cell_type": "code",
   "execution_count": 9,
   "metadata": {},
   "outputs": [
    {
     "name": "stderr",
     "output_type": "stream",
     "text": [
      "100%|██████████| 100/100 [06:11<00:00,  3.71s/it]\n"
     ]
    }
   ],
   "source": [
    "results = run_search(a_star_search, examples, maxIters=50, verbose=False, distance_metric=\"combined\", combine_phrases=True)"
   ]
  },
  {
   "cell_type": "code",
   "execution_count": null,
   "metadata": {},
   "outputs": [],
   "source": [
    "results = run_search(a_star_search, examples, maxIters=50, verbose=False, distance_metric=\"combined\", combine_phrases=True)"
   ]
  },
  {
   "cell_type": "code",
   "execution_count": 19,
   "metadata": {},
   "outputs": [
    {
     "name": "stderr",
     "output_type": "stream",
     "text": [
      "100%|██████████| 100/100 [06:01<00:00,  3.61s/it]\n"
     ]
    }
   ],
   "source": [
    "results1 = run_search(greedy_word2vec, examples, maxIters=50, distance_metric=\"combined\", combine_phrases=True)"
   ]
  },
  {
   "cell_type": "code",
   "execution_count": 20,
   "metadata": {
    "scrolled": true
   },
   "outputs": [
    {
     "name": "stderr",
     "output_type": "stream",
     "text": [
      "100%|██████████| 100/100 [07:15<00:00,  4.36s/it]\n"
     ]
    }
   ],
   "source": [
    "results2 = run_search(greedy_word2vec, examples, maxIters=50, distance_metric=\"combined\", combine_phrases=False)"
   ]
  },
  {
   "cell_type": "code",
   "execution_count": 21,
   "metadata": {},
   "outputs": [
    {
     "name": "stderr",
     "output_type": "stream",
     "text": [
      "100%|██████████| 100/100 [13:39<00:00,  8.19s/it]\n"
     ]
    }
   ],
   "source": [
    "results3 = run_search(greedy_word2vec, examples, maxIters=50, distance_metric=\"average\", combine_phrases=True)"
   ]
  },
  {
   "cell_type": "code",
   "execution_count": 28,
   "metadata": {
    "scrolled": true
   },
   "outputs": [
    {
     "name": "stderr",
     "output_type": "stream",
     "text": [
      "100%|██████████| 100/100 [16:41<00:00, 10.02s/it]\n"
     ]
    }
   ],
   "source": [
    "results4 = run_search(greedy_word2vec, examples, maxIters=50, distance_metric=\"average\", combine_phrases=False)"
   ]
  },
  {
   "cell_type": "code",
   "execution_count": 29,
   "metadata": {},
   "outputs": [
    {
     "name": "stderr",
     "output_type": "stream",
     "text": [
      "100%|██████████| 100/100 [10:02<00:00,  6.03s/it]\n"
     ]
    }
   ],
   "source": [
    "results5 = run_search(greedy_word2vec, examples, maxIters=50, distance_metric=\"minimum\", combine_phrases=True)"
   ]
  },
  {
   "cell_type": "code",
   "execution_count": 34,
   "metadata": {
    "scrolled": false
   },
   "outputs": [
    {
     "name": "stderr",
     "output_type": "stream",
     "text": [
      "100%|██████████| 100/100 [11:36<00:00,  6.96s/it]\n"
     ]
    }
   ],
   "source": [
    "results6 = run_search(greedy_word2vec, examples, maxIters=50, distance_metric=\"minimum\", combine_phrases=False)"
   ]
  },
  {
   "cell_type": "code",
   "execution_count": 35,
   "metadata": {},
   "outputs": [],
   "source": [
    "# pickle.dump(results1, open('results/new_greedy_phrase_combined_exclusions.pkl', 'wb'))\n",
    "# pickle.dump(results2, open('results/new_greedy_word_combined_exclusions.pkl', 'wb'))\n",
    "# pickle.dump(results3, open('results/new_greedy_phrase_average_exclusions.pkl', 'wb'))\n",
    "# pickle.dump(results4, open('results/new_greedy_word_average_exclusions.pkl', 'wb'))\n",
    "# pickle.dump(results5, open('results/new_greedy_phrase_minimum_exclusions.pkl', 'wb'))\n",
    "# pickle.dump(results6, open('results/new_greedy_word_minimum_exclusions.pkl', 'wb'))"
   ]
  },
  {
   "cell_type": "code",
   "execution_count": 91,
   "metadata": {},
   "outputs": [],
   "source": [
    "# pickle.dump(results, open('results/new_astar_phrase_combined_exclusions.pkl', 'wb'))\n",
    "results_astar_exclusions = pickle.load( open( \"results/astar_phrase_combined_exclusions.pkl\", \"rb\" ) )"
   ]
  },
  {
   "cell_type": "code",
   "execution_count": 16,
   "metadata": {},
   "outputs": [],
   "source": [
    "results_new_astar_exclusions = pickle.load(open('results/new_astar_phrase_combined_exclusions.pkl', 'rb'))"
   ]
  },
  {
   "cell_type": "code",
   "execution_count": 26,
   "metadata": {
    "scrolled": true
   },
   "outputs": [],
   "source": [
    "results_combined_exclusions = pickle.load( open( \"results/greedy_phrase_combined_exclusions.pkl\", \"rb\" ) )\n",
    "results_combined = pickle.load( open( \"results/greedy_phrase_combined.pkl\", \"rb\" ) )\n",
    "results_average = pickle.load( open( \"results/greedy_phrase_average.pkl\", \"rb\" ) )\n",
    "results_minimum = pickle.load( open( \"results/greedy_phrase_minimum.pkl\", \"rb\" ) )\n",
    "results_combined_words = pickle.load( open( \"results/greedy_words_combined.pkl\", \"rb\" ) )\n",
    "results_minimum_words = pickle.load( open( \"results/greedy_words_minimum.pkl\", \"rb\" ) )\n",
    "results_average_words = pickle.load( open( \"results/greedy_words_average.pkl\", \"rb\" ) )"
   ]
  },
  {
   "cell_type": "markdown",
   "metadata": {},
   "source": [
    "## New Results"
   ]
  },
  {
   "cell_type": "code",
   "execution_count": 16,
   "metadata": {},
   "outputs": [],
   "source": [
    "results_new_astar_exclusions = pickle.load(open('results/new_astar_phrase_combined_exclusions.pkl', 'rb'))"
   ]
  },
  {
   "cell_type": "code",
   "execution_count": 142,
   "metadata": {},
   "outputs": [],
   "source": [
    "# pickle.dump(results1, open('results/new_greedy_phrase_combined_exclusions.pkl', 'wb'))\n",
    "# pickle.dump(results2, open('results/new_greedy_word_combined_exclusions.pkl', 'wb'))\n",
    "# pickle.dump(results3, open('results/new_greedy_phrase_average_exclusions.pkl', 'wb'))\n",
    "# pickle.dump(results4, open('results/new_greedy_word_average_exclusions.pkl', 'wb'))\n",
    "# pickle.dump(results5, open('results/new_greedy_phrase_minimum_exclusions.pkl', 'wb'))\n",
    "# pickle.dump(results6, open('results/new_greedy_word_minimum_exclusions.pkl', 'wb'))"
   ]
  },
  {
   "cell_type": "code",
   "execution_count": 37,
   "metadata": {},
   "outputs": [],
   "source": [
    "results_greedy_p_c = pickle.load(open('results/new_greedy_phrase_combined_exclusions.pkl', 'rb'))\n",
    "results_greedy_w_c = pickle.load(open('results/new_greedy_word_combined_exclusions.pkl', 'rb'))\n",
    "results_greedy_p_a = pickle.load(open('results/new_greedy_phrase_average_exclusions.pkl', 'rb'))\n",
    "results_greedy_w_a = pickle.load(open('results/new_greedy_word_average_exclusions.pkl', 'rb'))\n",
    "results_greedy_p_m = pickle.load(open('results/new_greedy_phrase_minimum_exclusions.pkl', 'rb'))\n",
    "results_greedy_w_m = pickle.load(open('results/new_greedy_word_minimum_exclusions.pkl', 'rb'))"
   ]
  },
  {
   "cell_type": "markdown",
   "metadata": {},
   "source": [
    "# Make sure average doesn't have old values"
   ]
  },
  {
   "cell_type": "code",
   "execution_count": 88,
   "metadata": {},
   "outputs": [],
   "source": [
    "# for k, v in results_new_astar_exclusions.items():\n",
    "#     print(k, v[1])"
   ]
  },
  {
   "cell_type": "code",
   "execution_count": null,
   "metadata": {},
   "outputs": [],
   "source": []
  },
  {
   "cell_type": "code",
   "execution_count": 64,
   "metadata": {},
   "outputs": [],
   "source": [
    "def plot_results(result_list, label_list, title='Kernel density estimation of path lengths for greedy search', save_to_file=None):\n",
    "    fig, axes = plt.subplots(1, 1, figsize=(8, 6))\n",
    "    num_fail = {}\n",
    "\n",
    "    for data, label in zip(result_list, label_list):\n",
    "        lengths = []\n",
    "        num_fail[label] = 0\n",
    "        for k, v in data.items():\n",
    "            if len(v) > 0:\n",
    "                lengths.append(len(v))\n",
    "            else:\n",
    "                num_fail[label]+=1\n",
    "        sns.distplot(lengths, kde=True, hist=False, label=label, rug=True)\n",
    "\n",
    "    plt.grid(axis='y', alpha=0.75)\n",
    "    plt.xlabel('Value')\n",
    "    plt.ylabel('Frequency')\n",
    "    plt.title(title);  # FYI this semi-colon is magic.\n",
    "    \n",
    "    if save_to_file:\n",
    "        fig.savefig(save_to_file)\n",
    "    \n",
    "    return num_fail"
   ]
  },
  {
   "cell_type": "code",
   "execution_count": 80,
   "metadata": {},
   "outputs": [
    {
     "data": {
      "text/plain": [
       "{'greedy unigram average': 59,\n",
       " 'greedy unigram combined': 25,\n",
       " 'greedy unigram minimum': 53}"
      ]
     },
     "execution_count": 80,
     "metadata": {},
     "output_type": "execute_result"
    },
    {
     "data": {
      "image/png": "[encoded data removed]",
      "text/plain": [
       "<Figure size 576x432 with 1 Axes>"
      ]
     },
     "metadata": {},
     "output_type": "display_data"
    }
   ],
   "source": [
    "plot_results([results_greedy_w_c, results_greedy_w_a, results_greedy_w_m],\n",
    "                              ['greedy unigram combined', 'greedy unigram average', 'greedy unigram minimum', 'greedy bigram combined', 'greedy bigram average', 'greedy bigram minimum'],\n",
    "                              title=\"KDE for greedy path lengths\", save_to_file='greedy_unigrams.png')"
   ]
  },
  {
   "cell_type": "code",
   "execution_count": 81,
   "metadata": {},
   "outputs": [
    {
     "data": {
      "text/plain": [
       "{'greedy bigram average': 55,\n",
       " 'greedy bigram combined': 17,\n",
       " 'greedy bigram minimum': 38}"
      ]
     },
     "execution_count": 81,
     "metadata": {},
     "output_type": "execute_result"
    },
    {
     "data": {
      "image/png": "[encoded data removed]",
      "text/plain": [
       "<Figure size 576x432 with 1 Axes>"
      ]
     },
     "metadata": {},
     "output_type": "display_data"
    }
   ],
   "source": [
    "plot_results([results_greedy_p_c, results_greedy_p_a, results_greedy_p_m],\n",
    "             ['greedy bigram combined', 'greedy bigram average', 'greedy bigram minimum'],\n",
    "                              title=\"KDE for greedy path lengths\", save_to_file='greedy_bigrams.png')"
   ]
  },
  {
   "cell_type": "code",
   "execution_count": null,
   "metadata": {},
   "outputs": [],
   "source": []
  },
  {
   "cell_type": "code",
   "execution_count": null,
   "metadata": {},
   "outputs": [],
   "source": []
  },
  {
   "cell_type": "code",
   "execution_count": 94,
   "metadata": {},
   "outputs": [],
   "source": [
    "results_a_star = {k: v[0] for k, v in results_new_astar_exclusions.items()}"
   ]
  },
  {
   "cell_type": "code",
   "execution_count": 95,
   "metadata": {},
   "outputs": [
    {
     "data": {
      "text/plain": [
       "{'a star bigrams': 11, 'greedy bigram combined': 17}"
      ]
     },
     "execution_count": 95,
     "metadata": {},
     "output_type": "execute_result"
    },
    {
     "data": {
      "image/png": "[encoded data removed]",
      "text/plain": [
       "<Figure size 576x432 with 1 Axes>"
      ]
     },
     "metadata": {},
     "output_type": "display_data"
    }
   ],
   "source": [
    "plot_results([results_a_star, results_greedy_p_c, results_greedy_w_m],\n",
    "                              ['a star bigrams', 'greedy bigram combined'],\n",
    "                              title=\"KDE for A Star vs Greedy\", save_to_file='a_star_greedy.png')"
   ]
  },
  {
   "cell_type": "code",
   "execution_count": 177,
   "metadata": {},
   "outputs": [
    {
     "data": {
      "text/html": [
       "<div>\n",
       "<style scoped>\n",
       "    .dataframe tbody tr th:only-of-type {\n",
       "        vertical-align: middle;\n",
       "    }\n",
       "\n",
       "    .dataframe tbody tr th {\n",
       "        vertical-align: top;\n",
       "    }\n",
       "\n",
       "    .dataframe thead th {\n",
       "        text-align: right;\n",
       "    }\n",
       "</style>\n",
       "<table border=\"1\" class=\"dataframe\">\n",
       "  <thead>\n",
       "    <tr style=\"text-align: right;\">\n",
       "      <th></th>\n",
       "      <th>algorithm</th>\n",
       "      <th>num_failed</th>\n",
       "    </tr>\n",
       "  </thead>\n",
       "  <tbody>\n",
       "    <tr>\n",
       "      <th>0</th>\n",
       "      <td>greedy unigram combined</td>\n",
       "      <td>25</td>\n",
       "    </tr>\n",
       "    <tr>\n",
       "      <th>1</th>\n",
       "      <td>greedy unigram average</td>\n",
       "      <td>59</td>\n",
       "    </tr>\n",
       "    <tr>\n",
       "      <th>2</th>\n",
       "      <td>greedy unigram minimum</td>\n",
       "      <td>53</td>\n",
       "    </tr>\n",
       "    <tr>\n",
       "      <th>3</th>\n",
       "      <td>greedy bigram combined</td>\n",
       "      <td>17</td>\n",
       "    </tr>\n",
       "    <tr>\n",
       "      <th>4</th>\n",
       "      <td>greedy bigram average</td>\n",
       "      <td>55</td>\n",
       "    </tr>\n",
       "    <tr>\n",
       "      <th>5</th>\n",
       "      <td>greedy bigram minimum</td>\n",
       "      <td>38</td>\n",
       "    </tr>\n",
       "    <tr>\n",
       "      <th>6</th>\n",
       "      <td>a star bigrams</td>\n",
       "      <td>11</td>\n",
       "    </tr>\n",
       "  </tbody>\n",
       "</table>\n",
       "</div>"
      ],
      "text/plain": [
       "                 algorithm  num_failed\n",
       "0  greedy unigram combined          25\n",
       "1   greedy unigram average          59\n",
       "2   greedy unigram minimum          53\n",
       "3   greedy bigram combined          17\n",
       "4    greedy bigram average          55\n",
       "5    greedy bigram minimum          38\n",
       "6           a star bigrams          11"
      ]
     },
     "execution_count": 177,
     "metadata": {},
     "output_type": "execute_result"
    }
   ],
   "source": [
    "failures\n",
    "failures['a star bigrams'] = 11\n",
    "import pandas as pd\n",
    "df = pd.DataFrame.from_dict(list(failures.items()))\n",
    "df.columns = ['algorithm','num_failed']\n",
    "df"
   ]
  },
  {
   "cell_type": "code",
   "execution_count": 98,
   "metadata": {},
   "outputs": [
    {
     "data": {
      "image/png": "[encoded data removed]",
      "text/plain": [
       "<Figure size 1080x576 with 1 Axes>"
      ]
     },
     "metadata": {},
     "output_type": "display_data"
    }
   ],
   "source": [
    "df = df.sort_values(by='num_failed', ascending=True)\n",
    "df.plot.bar(stacked=False, figsize=(15,8))\n",
    "plt.xticks(rotation=40, fontsize=16)\n",
    "plt.title(\"Number of failed searches\", fontsize=20)\n",
    "plt.ylabel('# of searches')\n",
    "plt.xticks(np.arange(len(df)), df['algorithm'])\n",
    "plt.tight_layout()\n",
    "plt.savefig(\"failed_searches.png\")\n",
    "plt.show()"
   ]
  },
  {
   "cell_type": "code",
   "execution_count": null,
   "metadata": {},
   "outputs": [],
   "source": []
  },
  {
   "cell_type": "markdown",
   "metadata": {},
   "source": [
    "### Estimate branching factor"
   ]
  },
  {
   "cell_type": "code",
   "execution_count": 122,
   "metadata": {},
   "outputs": [],
   "source": [
    "links = []\n",
    "\n",
    "for w in examples:\n",
    "    p = pywikibot.Page(site, w[0])\n",
    "    links.append([i.title() for i in p.linkedPages()])"
   ]
  },
  {
   "cell_type": "code",
   "execution_count": 138,
   "metadata": {},
   "outputs": [],
   "source": [
    "results = np.concatenate(links)\n",
    "good_results = [l for l in results if valid_page(l)]"
   ]
  },
  {
   "cell_type": "code",
   "execution_count": 141,
   "metadata": {
    "scrolled": false
   },
   "outputs": [
    {
     "data": {
      "text/plain": [
       "685.16"
      ]
     },
     "execution_count": 141,
     "metadata": {},
     "output_type": "execute_result"
    }
   ],
   "source": [
    "len(good_results) / len(examples)"
   ]
  },
  {
   "cell_type": "code",
   "execution_count": null,
   "metadata": {},
   "outputs": [],
   "source": []
  },
  {
   "cell_type": "markdown",
   "metadata": {},
   "source": [
    "### Combining BFS and DFS"
   ]
  },
  {
   "cell_type": "code",
   "execution_count": 150,
   "metadata": {},
   "outputs": [],
   "source": [
    "# pickle.dump(results_dfs, open('results/bidirectional_dfs.pkl', 'wb'))\n",
    "# pickle.dump(results_bfs, open('results/bidirectional_bfs.pkl', 'wb'))"
   ]
  },
  {
   "cell_type": "code",
   "execution_count": 151,
   "metadata": {},
   "outputs": [],
   "source": [
    "results_dfs = pickle.load(open('results/bidirectional_dfs.pkl', 'rb'))\n",
    "results_bfs = pickle.load(open('results/bidirectional_bfs.pkl', 'rb'))"
   ]
  },
  {
   "cell_type": "code",
   "execution_count": 164,
   "metadata": {},
   "outputs": [],
   "source": [
    "# for k, v in results_dfs.items():\n",
    "#     print(k, v)\n",
    "#     print(len(v[0]))\n",
    "# #     print(k, len(v[0]))"
   ]
  },
  {
   "cell_type": "code",
   "execution_count": 165,
   "metadata": {},
   "outputs": [],
   "source": [
    "# results_dfs_pathlengths = {k: len(v[0]) for k, v in results_dfs.items()}"
   ]
  },
  {
   "cell_type": "code",
   "execution_count": 184,
   "metadata": {},
   "outputs": [],
   "source": [
    "trouble = ('Statistics', 'angelina jolie')"
   ]
  },
  {
   "cell_type": "code",
   "execution_count": 186,
   "metadata": {},
   "outputs": [
    {
     "data": {
      "text/plain": [
       "(False, 601)"
      ]
     },
     "execution_count": 186,
     "metadata": {},
     "output_type": "execute_result"
    }
   ],
   "source": [
    "results_bfs[trouble]"
   ]
  },
  {
   "cell_type": "code",
   "execution_count": 192,
   "metadata": {},
   "outputs": [
    {
     "data": {
      "text/plain": [
       "2"
      ]
     },
     "execution_count": 192,
     "metadata": {},
     "output_type": "execute_result"
    }
   ],
   "source": [
    "failures_dfs = 0\n",
    "for k, v in results_dfs.items():\n",
    "    if v[0] == False:\n",
    "        failures_dfs += 1\n",
    "failures_dfs"
   ]
  },
  {
   "cell_type": "code",
   "execution_count": null,
   "metadata": {},
   "outputs": [],
   "source": []
  },
  {
   "cell_type": "code",
   "execution_count": null,
   "metadata": {},
   "outputs": [],
   "source": [
    "for k, v in results_dfs:"
   ]
  },
  {
   "cell_type": "code",
   "execution_count": 193,
   "metadata": {},
   "outputs": [
    {
     "data": {
      "text/html": [
       "<div>\n",
       "<style scoped>\n",
       "    .dataframe tbody tr th:only-of-type {\n",
       "        vertical-align: middle;\n",
       "    }\n",
       "\n",
       "    .dataframe tbody tr th {\n",
       "        vertical-align: top;\n",
       "    }\n",
       "\n",
       "    .dataframe thead th {\n",
       "        text-align: right;\n",
       "    }\n",
       "</style>\n",
       "<table border=\"1\" class=\"dataframe\">\n",
       "  <thead>\n",
       "    <tr style=\"text-align: right;\">\n",
       "      <th></th>\n",
       "      <th>algorithm</th>\n",
       "      <th>num_failed</th>\n",
       "    </tr>\n",
       "  </thead>\n",
       "  <tbody>\n",
       "    <tr>\n",
       "      <th>0</th>\n",
       "      <td>greedy unigram combined</td>\n",
       "      <td>25</td>\n",
       "    </tr>\n",
       "    <tr>\n",
       "      <th>1</th>\n",
       "      <td>greedy unigram average</td>\n",
       "      <td>59</td>\n",
       "    </tr>\n",
       "    <tr>\n",
       "      <th>2</th>\n",
       "      <td>greedy unigram minimum</td>\n",
       "      <td>53</td>\n",
       "    </tr>\n",
       "    <tr>\n",
       "      <th>3</th>\n",
       "      <td>greedy bigram combined</td>\n",
       "      <td>17</td>\n",
       "    </tr>\n",
       "    <tr>\n",
       "      <th>4</th>\n",
       "      <td>greedy bigram average</td>\n",
       "      <td>55</td>\n",
       "    </tr>\n",
       "    <tr>\n",
       "      <th>5</th>\n",
       "      <td>greedy bigram minimum</td>\n",
       "      <td>38</td>\n",
       "    </tr>\n",
       "    <tr>\n",
       "      <th>6</th>\n",
       "      <td>a star bigrams</td>\n",
       "      <td>11</td>\n",
       "    </tr>\n",
       "    <tr>\n",
       "      <th>7</th>\n",
       "      <td>bidirectional dfs</td>\n",
       "      <td>2</td>\n",
       "    </tr>\n",
       "    <tr>\n",
       "      <th>8</th>\n",
       "      <td>bidirectional bfs</td>\n",
       "      <td>2</td>\n",
       "    </tr>\n",
       "  </tbody>\n",
       "</table>\n",
       "</div>"
      ],
      "text/plain": [
       "                 algorithm  num_failed\n",
       "0  greedy unigram combined          25\n",
       "1   greedy unigram average          59\n",
       "2   greedy unigram minimum          53\n",
       "3   greedy bigram combined          17\n",
       "4    greedy bigram average          55\n",
       "5    greedy bigram minimum          38\n",
       "6           a star bigrams          11\n",
       "7        bidirectional dfs           2\n",
       "8        bidirectional bfs           2"
      ]
     },
     "execution_count": 193,
     "metadata": {},
     "output_type": "execute_result"
    }
   ],
   "source": [
    "failures\n",
    "failures['a star bigrams'] = 11\n",
    "failures['bidirectional dfs'] = 2\n",
    "failures['bidirectional bfs'] = 2\n",
    "import pandas as pd\n",
    "df = pd.DataFrame.from_dict(list(failures.items()))\n",
    "df.columns = ['algorithm','num_failed']\n",
    "df"
   ]
  },
  {
   "cell_type": "markdown",
   "metadata": {},
   "source": [
    "### Calculate average path lengths"
   ]
  },
  {
   "cell_type": "code",
   "execution_count": 209,
   "metadata": {},
   "outputs": [],
   "source": [
    "# For simple paths\n",
    "def calc_avg_paths(results):\n",
    "    path_lengths = []\n",
    "    for k, v in results.items():\n",
    "        if len(v) > 0:\n",
    "            path_lengths.append(len(v))\n",
    "    return np.mean(path_lengths)"
   ]
  },
  {
   "cell_type": "code",
   "execution_count": 216,
   "metadata": {},
   "outputs": [],
   "source": [
    "# For dictionaries with paths and nodes expanded\n",
    "def calc_avg_paths_2(results):\n",
    "    path_lengths = []\n",
    "    for k, v in results.items():\n",
    "        if v[0]:\n",
    "            path_lengths.append(len(v[0]))\n",
    "    return np.mean(path_lengths)"
   ]
  },
  {
   "cell_type": "code",
   "execution_count": 239,
   "metadata": {},
   "outputs": [],
   "source": [
    "all_path_lengths = list(map(calc_avg_paths,\n",
    "                            (results_greedy_w_c, results_greedy_w_a, results_greedy_w_m, \n",
    "                             results_greedy_p_c, results_greedy_p_a, results_greedy_p_m, \n",
    "                             results_a_star))) + list(map(calc_avg_paths_2, (results_dfs, results_bfs)))"
   ]
  },
  {
   "cell_type": "code",
   "execution_count": 256,
   "metadata": {},
   "outputs": [],
   "source": [
    "df['avg_path'] = all_path_lengths\n",
    "df['nodes_expanded'] = all_path_lengths"
   ]
  },
  {
   "cell_type": "code",
   "execution_count": 257,
   "metadata": {},
   "outputs": [],
   "source": [
    "results_a_star_nodecounts = {k: v[1] for k, v in results_new_astar_exclusions.items()}"
   ]
  },
  {
   "cell_type": "code",
   "execution_count": 260,
   "metadata": {},
   "outputs": [
    {
     "data": {
      "text/plain": [
       "5.47191011235955"
      ]
     },
     "execution_count": 260,
     "metadata": {},
     "output_type": "execute_result"
    }
   ],
   "source": [
    "df.loc[6, 'nodes_expanded']"
   ]
  },
  {
   "cell_type": "code",
   "execution_count": 275,
   "metadata": {},
   "outputs": [],
   "source": [
    "df.loc[6, 'nodes_expanded'] = np.mean([v for k, v in results_a_star_nodecounts.items()])\n",
    "df.loc[7, 'nodes_expanded'] = np.mean([v[1] for k, v in results_dfs.items()])\n",
    "df.loc[8, 'nodes_expanded'] = np.mean([v[1] for k, v in results_bfs.items()])"
   ]
  },
  {
   "cell_type": "code",
   "execution_count": 276,
   "metadata": {},
   "outputs": [
    {
     "data": {
      "text/html": [
       "<div>\n",
       "<style scoped>\n",
       "    .dataframe tbody tr th:only-of-type {\n",
       "        vertical-align: middle;\n",
       "    }\n",
       "\n",
       "    .dataframe tbody tr th {\n",
       "        vertical-align: top;\n",
       "    }\n",
       "\n",
       "    .dataframe thead th {\n",
       "        text-align: right;\n",
       "    }\n",
       "</style>\n",
       "<table border=\"1\" class=\"dataframe\">\n",
       "  <thead>\n",
       "    <tr style=\"text-align: right;\">\n",
       "      <th></th>\n",
       "      <th>algorithm</th>\n",
       "      <th>num_failed</th>\n",
       "      <th>avg_path</th>\n",
       "      <th>nodes_expanded</th>\n",
       "    </tr>\n",
       "  </thead>\n",
       "  <tbody>\n",
       "    <tr>\n",
       "      <th>0</th>\n",
       "      <td>greedy unigram combined</td>\n",
       "      <td>25</td>\n",
       "      <td>12.760000</td>\n",
       "      <td>12.760000</td>\n",
       "    </tr>\n",
       "    <tr>\n",
       "      <th>1</th>\n",
       "      <td>greedy unigram average</td>\n",
       "      <td>59</td>\n",
       "      <td>10.585366</td>\n",
       "      <td>10.585366</td>\n",
       "    </tr>\n",
       "    <tr>\n",
       "      <th>2</th>\n",
       "      <td>greedy unigram minimum</td>\n",
       "      <td>53</td>\n",
       "      <td>14.957447</td>\n",
       "      <td>14.957447</td>\n",
       "    </tr>\n",
       "    <tr>\n",
       "      <th>3</th>\n",
       "      <td>greedy bigram combined</td>\n",
       "      <td>17</td>\n",
       "      <td>9.481928</td>\n",
       "      <td>9.481928</td>\n",
       "    </tr>\n",
       "    <tr>\n",
       "      <th>4</th>\n",
       "      <td>greedy bigram average</td>\n",
       "      <td>55</td>\n",
       "      <td>9.022222</td>\n",
       "      <td>9.022222</td>\n",
       "    </tr>\n",
       "    <tr>\n",
       "      <th>5</th>\n",
       "      <td>greedy bigram minimum</td>\n",
       "      <td>38</td>\n",
       "      <td>13.193548</td>\n",
       "      <td>13.193548</td>\n",
       "    </tr>\n",
       "    <tr>\n",
       "      <th>6</th>\n",
       "      <td>a star bigrams</td>\n",
       "      <td>11</td>\n",
       "      <td>5.471910</td>\n",
       "      <td>13.780000</td>\n",
       "    </tr>\n",
       "    <tr>\n",
       "      <th>7</th>\n",
       "      <td>bidirectional dfs</td>\n",
       "      <td>2</td>\n",
       "      <td>10.357143</td>\n",
       "      <td>15.950000</td>\n",
       "    </tr>\n",
       "    <tr>\n",
       "      <th>8</th>\n",
       "      <td>bidirectional bfs</td>\n",
       "      <td>2</td>\n",
       "      <td>3.928571</td>\n",
       "      <td>36.890000</td>\n",
       "    </tr>\n",
       "  </tbody>\n",
       "</table>\n",
       "</div>"
      ],
      "text/plain": [
       "                 algorithm  num_failed   avg_path  nodes_expanded\n",
       "0  greedy unigram combined          25  12.760000       12.760000\n",
       "1   greedy unigram average          59  10.585366       10.585366\n",
       "2   greedy unigram minimum          53  14.957447       14.957447\n",
       "3   greedy bigram combined          17   9.481928        9.481928\n",
       "4    greedy bigram average          55   9.022222        9.022222\n",
       "5    greedy bigram minimum          38  13.193548       13.193548\n",
       "6           a star bigrams          11   5.471910       13.780000\n",
       "7        bidirectional dfs           2  10.357143       15.950000\n",
       "8        bidirectional bfs           2   3.928571       36.890000"
      ]
     },
     "execution_count": 276,
     "metadata": {},
     "output_type": "execute_result"
    }
   ],
   "source": [
    "df"
   ]
  },
  {
   "cell_type": "code",
   "execution_count": null,
   "metadata": {},
   "outputs": [],
   "source": []
  }
 ],
 "metadata": {
  "kernelspec": {
   "display_name": "Python 3",
   "language": "python",
   "name": "python3"
  },
  "language_info": {
   "codemirror_mode": {
    "name": "ipython",
    "version": 3
   },
   "file_extension": ".py",
   "mimetype": "text/x-python",
   "name": "python",
   "nbconvert_exporter": "python",
   "pygments_lexer": "ipython3",
   "version": "3.6.5"
  }
 },
 "nbformat": 4,
 "nbformat_minor": 2
}
